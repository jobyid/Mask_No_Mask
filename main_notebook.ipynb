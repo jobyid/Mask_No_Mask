{
  "cells": [
    {
      "cell_type": "code",
      "metadata": {
        "tags": [],
        "cell_id": "00000-7cc8e25b-d415-451a-af3b-9062f5d477e0",
        "deepnote_to_be_reexecuted": false,
        "source_hash": "835702f8",
        "execution_millis": 1526,
        "execution_start": 1616500973266,
        "deepnote_cell_type": "code"
      },
      "source": "import torch\nimport torchvision\nimport torchvision.transforms as transforms\nimport torch.optim as optim\nimport time\nimport torch.nn.functional as F\nimport torch.nn as nn\nimport matplotlib.pyplot as plt\nfrom torchvision import models\nimport data_loader as dl",
      "execution_count": null,
      "outputs": []
    },
    {
      "cell_type": "code",
      "metadata": {
        "tags": [],
        "cell_id": "00001-0494a0bb-3f05-4078-981d-b118a78bb4d6",
        "deepnote_to_be_reexecuted": false,
        "source_hash": "d82313f5",
        "execution_millis": 8,
        "execution_start": 1616500974799,
        "deepnote_cell_type": "code"
      },
      "source": "transform = transforms.Compose(\n    [transforms.Resize((224, 224)),\n     transforms.ToTensor(),\n     transforms.Normalize((0.5, 0.5, 0.5), (0.5, 0.5, 0.5))])\n\ntrainset = torchvision.datasets.ImageFolder(root='./dataset',\n                                        transform=transform)\ntrainloader = torch.utils.data.DataLoader(trainset, batch_size=32,\n                                          shuffle=True)\ntestset = torchvision.datasets.ImageFolder(root='./dataset',\n                                       transform=transform)\ntestloader = torch.utils.data.DataLoader(testset, batch_size=32,\n                                         shuffle=False)",
      "execution_count": null,
      "outputs": []
    },
    {
      "cell_type": "code",
      "metadata": {
        "tags": [],
        "cell_id": "00001-9f1fa613-9c3f-4dde-a68c-a071bb554052",
        "deepnote_to_be_reexecuted": false,
        "source_hash": "e24605e3",
        "execution_millis": 3,
        "execution_start": 1616500974809,
        "deepnote_cell_type": "code"
      },
      "source": "#x = dl.load_data('dataset',12,True)\n",
      "execution_count": null,
      "outputs": []
    },
    {
      "cell_type": "code",
      "metadata": {
        "tags": [],
        "cell_id": "00002-0757643e-83fe-4565-8a57-d659103c9de1",
        "deepnote_to_be_reexecuted": false,
        "source_hash": "34f36758",
        "execution_millis": 9,
        "execution_start": 1616500974818,
        "deepnote_cell_type": "code"
      },
      "source": "\n# check GPU availability\ndevice = torch.device(\"cuda:0\" if torch.cuda.is_available() else \"cpu\")\nprint(device)",
      "execution_count": null,
      "outputs": [
        {
          "name": "stdout",
          "text": "cpu\n",
          "output_type": "stream"
        }
      ]
    },
    {
      "cell_type": "code",
      "metadata": {
        "tags": [],
        "cell_id": "00004-5540236a-9e39-427a-98db-0db3ab71794d",
        "deepnote_to_be_reexecuted": false,
        "source_hash": "6f36f687",
        "execution_millis": 41,
        "execution_start": 1616500974826,
        "deepnote_cell_type": "code"
      },
      "source": "#!pip install ipywidgets\n",
      "execution_count": null,
      "outputs": []
    },
    {
      "cell_type": "code",
      "metadata": {
        "tags": [],
        "cell_id": "00003-0090f6e3-efc8-42fd-a77c-cdd6a1e321b7",
        "deepnote_to_be_reexecuted": false,
        "source_hash": "b2ed179a",
        "execution_millis": 4663,
        "execution_start": 1616500974867,
        "deepnote_cell_type": "code"
      },
      "source": "vgg16 = models.vgg16(pretrained=True)\nvgg16.to(device)\nprint(vgg16)",
      "execution_count": null,
      "outputs": [
        {
          "name": "stderr",
          "text": "Downloading: \"https://download.pytorch.org/models/vgg16-397923af.pth\" to /root/.cache/torch/hub/checkpoints/vgg16-397923af.pth\n",
          "output_type": "stream"
        },
        {
          "data": {
            "text/plain": "  0%|          | 0.00/528M [00:00<?, ?B/s]",
            "application/vnd.jupyter.widget-view+json": {
              "version_major": 2,
              "version_minor": 0,
              "model_id": "d523b18f664a48ec819201ddd24b401c"
            }
          },
          "metadata": {},
          "output_type": "display_data"
        },
        {
          "name": "stdout",
          "text": "VGG(\n  (features): Sequential(\n    (0): Conv2d(3, 64, kernel_size=(3, 3), stride=(1, 1), padding=(1, 1))\n    (1): ReLU(inplace=True)\n    (2): Conv2d(64, 64, kernel_size=(3, 3), stride=(1, 1), padding=(1, 1))\n    (3): ReLU(inplace=True)\n    (4): MaxPool2d(kernel_size=2, stride=2, padding=0, dilation=1, ceil_mode=False)\n    (5): Conv2d(64, 128, kernel_size=(3, 3), stride=(1, 1), padding=(1, 1))\n    (6): ReLU(inplace=True)\n    (7): Conv2d(128, 128, kernel_size=(3, 3), stride=(1, 1), padding=(1, 1))\n    (8): ReLU(inplace=True)\n    (9): MaxPool2d(kernel_size=2, stride=2, padding=0, dilation=1, ceil_mode=False)\n    (10): Conv2d(128, 256, kernel_size=(3, 3), stride=(1, 1), padding=(1, 1))\n    (11): ReLU(inplace=True)\n    (12): Conv2d(256, 256, kernel_size=(3, 3), stride=(1, 1), padding=(1, 1))\n    (13): ReLU(inplace=True)\n    (14): Conv2d(256, 256, kernel_size=(3, 3), stride=(1, 1), padding=(1, 1))\n    (15): ReLU(inplace=True)\n    (16): MaxPool2d(kernel_size=2, stride=2, padding=0, dilation=1, ceil_mode=False)\n    (17): Conv2d(256, 512, kernel_size=(3, 3), stride=(1, 1), padding=(1, 1))\n    (18): ReLU(inplace=True)\n    (19): Conv2d(512, 512, kernel_size=(3, 3), stride=(1, 1), padding=(1, 1))\n    (20): ReLU(inplace=True)\n    (21): Conv2d(512, 512, kernel_size=(3, 3), stride=(1, 1), padding=(1, 1))\n    (22): ReLU(inplace=True)\n    (23): MaxPool2d(kernel_size=2, stride=2, padding=0, dilation=1, ceil_mode=False)\n    (24): Conv2d(512, 512, kernel_size=(3, 3), stride=(1, 1), padding=(1, 1))\n    (25): ReLU(inplace=True)\n    (26): Conv2d(512, 512, kernel_size=(3, 3), stride=(1, 1), padding=(1, 1))\n    (27): ReLU(inplace=True)\n    (28): Conv2d(512, 512, kernel_size=(3, 3), stride=(1, 1), padding=(1, 1))\n    (29): ReLU(inplace=True)\n    (30): MaxPool2d(kernel_size=2, stride=2, padding=0, dilation=1, ceil_mode=False)\n  )\n  (avgpool): AdaptiveAvgPool2d(output_size=(7, 7))\n  (classifier): Sequential(\n    (0): Linear(in_features=25088, out_features=4096, bias=True)\n    (1): ReLU(inplace=True)\n    (2): Dropout(p=0.5, inplace=False)\n    (3): Linear(in_features=4096, out_features=4096, bias=True)\n    (4): ReLU(inplace=True)\n    (5): Dropout(p=0.5, inplace=False)\n    (6): Linear(in_features=4096, out_features=1000, bias=True)\n  )\n)\n",
          "output_type": "stream"
        }
      ]
    },
    {
      "cell_type": "code",
      "metadata": {
        "tags": [],
        "cell_id": "00004-4365cd68-712f-4d30-ad24-8e6b5016f4e0",
        "deepnote_to_be_reexecuted": false,
        "source_hash": "687477af",
        "execution_millis": 3,
        "execution_start": 1616500979534,
        "deepnote_cell_type": "code"
      },
      "source": "\n# change the number of classes \nvgg16.classifier[6].out_features = 3\n# freeze convolution weights\nfor param in vgg16.features.parameters():\n    param.requires_grad = False",
      "execution_count": null,
      "outputs": []
    },
    {
      "cell_type": "code",
      "metadata": {
        "tags": [],
        "cell_id": "00005-e38de85b-c8d9-4718-927a-51860b4e2346",
        "deepnote_to_be_reexecuted": false,
        "source_hash": "8f1cf283",
        "execution_millis": 3,
        "execution_start": 1616500979542,
        "deepnote_cell_type": "code"
      },
      "source": "# optimizer\noptimizer = optim.SGD(vgg16.classifier.parameters(), lr=0.001, momentum=0.9)\n# loss function\ncriterion = nn.CrossEntropyLoss()",
      "execution_count": null,
      "outputs": []
    },
    {
      "cell_type": "code",
      "metadata": {
        "tags": [],
        "cell_id": "00006-f6a3555a-17fe-48b3-aeac-3a2f819fcfa8",
        "deepnote_to_be_reexecuted": false,
        "source_hash": "3bba2a1b",
        "execution_millis": 1,
        "execution_start": 1616500979570,
        "deepnote_cell_type": "code"
      },
      "source": "# validation function\ndef validate(model, test_dataloader):\n    model.eval()\n    val_running_loss = 0.0\n    val_running_correct = 0\n    for int, data in enumerate(test_dataloader):\n        data, target = data[0].to(device), data[1].to(device)\n        output = model(data)\n        loss = criterion(output, target)\n        \n        val_running_loss += loss.item()\n        _, preds = torch.max(output.data, 1)\n        val_running_correct += (preds == target).sum().item()\n    \n    val_loss = val_running_loss/len(test_dataloader.dataset)\n    val_accuracy = 100. * val_running_correct/len(test_dataloader.dataset)\n    \n    return val_loss, val_accuracy\n",
      "execution_count": null,
      "outputs": []
    },
    {
      "cell_type": "code",
      "metadata": {
        "tags": [],
        "cell_id": "00007-dca7936d-54d7-4587-a1c6-0bfc310675f9",
        "deepnote_to_be_reexecuted": false,
        "source_hash": "348f08d0",
        "execution_millis": 1,
        "execution_start": 1616500979571,
        "deepnote_cell_type": "code"
      },
      "source": "# training function\ndef fit(model, train_dataloader):\n    model.train()\n    train_running_loss = 0.0\n    train_running_correct = 0\n    for i, data in enumerate(train_dataloader):\n        data, target = data[0].to(device), data[1].to(device)\n        optimizer.zero_grad()\n        output = model(data)\n        loss = criterion(output, target)\n        train_running_loss += loss.item()\n        _, preds = torch.max(output.data, 1)\n        train_running_correct += (preds == target).sum().item()\n        loss.backward()\n        optimizer.step()\n    train_loss = train_running_loss/len(train_dataloader.dataset)\n    train_accuracy = 100. * train_running_correct/len(train_dataloader.dataset)\n    print(f'Train Loss: {train_loss:.4f}, Train Acc: {train_accuracy:.2f}')\n    ",
      "execution_count": null,
      "outputs": []
    },
    {
      "cell_type": "code",
      "metadata": {
        "tags": [],
        "cell_id": "00008-e011be85-9bd0-4b70-a730-d23ffbeced46",
        "deepnote_to_be_reexecuted": false,
        "source_hash": "dcde959e",
        "execution_millis": 57445,
        "execution_start": 1616500979573,
        "deepnote_cell_type": "code"
      },
      "source": "train_loss , train_accuracy = [], []\nval_loss , val_accuracy = [], []\nstart = time.time()\nfor epoch in range(10):\n    train_epoch_loss, train_epoch_accuracy = fit(vgg16, trainloader)\n    val_epoch_loss, val_epoch_accuracy = validate(vgg16, testloader)\n    train_loss.append(train_epoch_loss)\n    train_accuracy.append(train_epoch_accuracy)\n    val_loss.append(val_epoch_loss)\n    val_accuracy.append(val_epoch_accuracy)\nend = time.time()\nprint((end-start)/60, 'minutes')",
      "execution_count": null,
      "outputs": [
        {
          "name": "stdout",
          "text": "Train Loss: 0.3216, Train Acc: 0.88\n",
          "output_type": "stream"
        },
        {
          "output_type": "error",
          "ename": "TypeError",
          "evalue": "cannot unpack non-iterable NoneType object",
          "traceback": [
            "\u001b[0;31m---------------------------------------------------------------------------\u001b[0m",
            "\u001b[0;31mTypeError\u001b[0m                                 Traceback (most recent call last)",
            "\u001b[0;32m<ipython-input-11-79a67c37788d>\u001b[0m in \u001b[0;36m<module>\u001b[0;34m\u001b[0m\n\u001b[1;32m      3\u001b[0m \u001b[0mstart\u001b[0m \u001b[0;34m=\u001b[0m \u001b[0mtime\u001b[0m\u001b[0;34m.\u001b[0m\u001b[0mtime\u001b[0m\u001b[0;34m(\u001b[0m\u001b[0;34m)\u001b[0m\u001b[0;34m\u001b[0m\u001b[0;34m\u001b[0m\u001b[0m\n\u001b[1;32m      4\u001b[0m \u001b[0;32mfor\u001b[0m \u001b[0mepoch\u001b[0m \u001b[0;32min\u001b[0m \u001b[0mrange\u001b[0m\u001b[0;34m(\u001b[0m\u001b[0;36m10\u001b[0m\u001b[0;34m)\u001b[0m\u001b[0;34m:\u001b[0m\u001b[0;34m\u001b[0m\u001b[0;34m\u001b[0m\u001b[0m\n\u001b[0;32m----> 5\u001b[0;31m     \u001b[0mtrain_epoch_loss\u001b[0m\u001b[0;34m,\u001b[0m \u001b[0mtrain_epoch_accuracy\u001b[0m \u001b[0;34m=\u001b[0m \u001b[0mfit\u001b[0m\u001b[0;34m(\u001b[0m\u001b[0mvgg16\u001b[0m\u001b[0;34m,\u001b[0m \u001b[0mtrainloader\u001b[0m\u001b[0;34m)\u001b[0m\u001b[0;34m\u001b[0m\u001b[0;34m\u001b[0m\u001b[0m\n\u001b[0m\u001b[1;32m      6\u001b[0m     \u001b[0mval_epoch_loss\u001b[0m\u001b[0;34m,\u001b[0m \u001b[0mval_epoch_accuracy\u001b[0m \u001b[0;34m=\u001b[0m \u001b[0mvalidate\u001b[0m\u001b[0;34m(\u001b[0m\u001b[0mvgg16\u001b[0m\u001b[0;34m,\u001b[0m \u001b[0mtestloader\u001b[0m\u001b[0;34m)\u001b[0m\u001b[0;34m\u001b[0m\u001b[0;34m\u001b[0m\u001b[0m\n\u001b[1;32m      7\u001b[0m     \u001b[0mtrain_loss\u001b[0m\u001b[0;34m.\u001b[0m\u001b[0mappend\u001b[0m\u001b[0;34m(\u001b[0m\u001b[0mtrain_epoch_loss\u001b[0m\u001b[0;34m)\u001b[0m\u001b[0;34m\u001b[0m\u001b[0;34m\u001b[0m\u001b[0m\n",
            "\u001b[0;31mTypeError\u001b[0m: cannot unpack non-iterable NoneType object"
          ]
        }
      ]
    },
    {
      "cell_type": "code",
      "metadata": {
        "tags": [],
        "cell_id": "00009-5112dd9e-f6ef-42de-b9a5-57b5fe47f4f2",
        "deepnote_to_be_reexecuted": true,
        "source_hash": "54f94de6",
        "deepnote_cell_type": "code"
      },
      "source": "plt.figure(figsize=(10, 7))\nplt.plot(train_accuracy, color='green', label='train accuracy')\nplt.plot(val_accuracy, color='blue', label='validataion accuracy')\nplt.legend()\nplt.savefig('accuracy.png')\nplt.show()",
      "execution_count": null,
      "outputs": []
    },
    {
      "cell_type": "code",
      "metadata": {
        "tags": [],
        "cell_id": "00010-a75559b1-e5c9-466c-a2fc-47ca8727cd03",
        "deepnote_to_be_reexecuted": true,
        "source_hash": "9c349a12",
        "deepnote_cell_type": "code"
      },
      "source": "plt.figure(figsize=(10, 7))\nplt.plot(train_loss, color='orange', label='train loss')\nplt.plot(val_loss, color='red', label='validataion loss')\nplt.legend()\nplt.savefig('loss.png')\nplt.show()",
      "execution_count": null,
      "outputs": []
    },
    {
      "cell_type": "markdown",
      "source": "<a style='text-decoration:none;line-height:16px;display:flex;color:#5B5B62;padding:10px;justify-content:end;' href='https://deepnote.com?utm_source=created-in-deepnote-cell&projectId=9f1e7bdb-154a-4549-a646-7775bf1dc7a2' target=\"_blank\">\n<img style='display:inline;max-height:16px;margin:0px;margin-right:7.5px;' src='data:image/svg+xml;base64,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' > </img>\nCreated in <span style='font-weight:600;margin-left:4px;'>Deepnote</span></a>",
      "metadata": {
        "tags": [],
        "created_in_deepnote_cell": true,
        "deepnote_cell_type": "markdown"
      }
    }
  ],
  "nbformat": 4,
  "nbformat_minor": 2,
  "metadata": {
    "orig_nbformat": 2,
    "deepnote_notebook_id": "3fbe392a-8432-4a75-a8c9-fc51c3a572f6",
    "deepnote": {},
    "deepnote_execution_queue": []
  }
}